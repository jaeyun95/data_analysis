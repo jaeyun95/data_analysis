{
  "nbformat": 4,
  "nbformat_minor": 0,
  "metadata": {
    "colab": {
      "name": "SeoulCrime01.ipynb",
      "provenance": [],
      "collapsed_sections": []
    },
    "kernelspec": {
      "name": "python3",
      "display_name": "Python 3"
    },
    "language_info": {
      "name": "python"
    }
  },
  "cells": [
    {
      "cell_type": "code",
      "metadata": {
        "colab": {
          "base_uri": "https://localhost:8080/",
          "height": 204
        },
        "id": "v2Aw7jt7poD8",
        "outputId": "65929e18-bda5-444e-c0e8-8a478a06adf7"
      },
      "source": [
        "import pandas as pd\n",
        "import numpy as np\n",
        "\n",
        "Crime_Police = pd.read_csv(\"/content/drive/MyDrive/data/DataScience-master/DataScience-master/data/02. crime_in_Seoul.csv\",thousands=\",\",encoding=\"euc-kr\")\n",
        "Crime_Police.head()"
      ],
      "execution_count": 5,
      "outputs": [
        {
          "output_type": "execute_result",
          "data": {
            "text/html": [
              "<div>\n",
              "<style scoped>\n",
              "    .dataframe tbody tr th:only-of-type {\n",
              "        vertical-align: middle;\n",
              "    }\n",
              "\n",
              "    .dataframe tbody tr th {\n",
              "        vertical-align: top;\n",
              "    }\n",
              "\n",
              "    .dataframe thead th {\n",
              "        text-align: right;\n",
              "    }\n",
              "</style>\n",
              "<table border=\"1\" class=\"dataframe\">\n",
              "  <thead>\n",
              "    <tr style=\"text-align: right;\">\n",
              "      <th></th>\n",
              "      <th>관서명</th>\n",
              "      <th>살인 발생</th>\n",
              "      <th>살인 검거</th>\n",
              "      <th>강도 발생</th>\n",
              "      <th>강도 검거</th>\n",
              "      <th>강간 발생</th>\n",
              "      <th>강간 검거</th>\n",
              "      <th>절도 발생</th>\n",
              "      <th>절도 검거</th>\n",
              "      <th>폭력 발생</th>\n",
              "      <th>폭력 검거</th>\n",
              "    </tr>\n",
              "  </thead>\n",
              "  <tbody>\n",
              "    <tr>\n",
              "      <th>0</th>\n",
              "      <td>중부서</td>\n",
              "      <td>2</td>\n",
              "      <td>2</td>\n",
              "      <td>3</td>\n",
              "      <td>2</td>\n",
              "      <td>105</td>\n",
              "      <td>65</td>\n",
              "      <td>1395</td>\n",
              "      <td>477</td>\n",
              "      <td>1355</td>\n",
              "      <td>1170</td>\n",
              "    </tr>\n",
              "    <tr>\n",
              "      <th>1</th>\n",
              "      <td>종로서</td>\n",
              "      <td>3</td>\n",
              "      <td>3</td>\n",
              "      <td>6</td>\n",
              "      <td>5</td>\n",
              "      <td>115</td>\n",
              "      <td>98</td>\n",
              "      <td>1070</td>\n",
              "      <td>413</td>\n",
              "      <td>1278</td>\n",
              "      <td>1070</td>\n",
              "    </tr>\n",
              "    <tr>\n",
              "      <th>2</th>\n",
              "      <td>남대문서</td>\n",
              "      <td>1</td>\n",
              "      <td>0</td>\n",
              "      <td>6</td>\n",
              "      <td>4</td>\n",
              "      <td>65</td>\n",
              "      <td>46</td>\n",
              "      <td>1153</td>\n",
              "      <td>382</td>\n",
              "      <td>869</td>\n",
              "      <td>794</td>\n",
              "    </tr>\n",
              "    <tr>\n",
              "      <th>3</th>\n",
              "      <td>서대문서</td>\n",
              "      <td>2</td>\n",
              "      <td>2</td>\n",
              "      <td>5</td>\n",
              "      <td>4</td>\n",
              "      <td>154</td>\n",
              "      <td>124</td>\n",
              "      <td>1812</td>\n",
              "      <td>738</td>\n",
              "      <td>2056</td>\n",
              "      <td>1711</td>\n",
              "    </tr>\n",
              "    <tr>\n",
              "      <th>4</th>\n",
              "      <td>혜화서</td>\n",
              "      <td>3</td>\n",
              "      <td>2</td>\n",
              "      <td>5</td>\n",
              "      <td>4</td>\n",
              "      <td>96</td>\n",
              "      <td>63</td>\n",
              "      <td>1114</td>\n",
              "      <td>424</td>\n",
              "      <td>1015</td>\n",
              "      <td>861</td>\n",
              "    </tr>\n",
              "  </tbody>\n",
              "</table>\n",
              "</div>"
            ],
            "text/plain": [
              "    관서명  살인 발생  살인 검거  강도 발생  강도 검거  강간 발생  강간 검거  절도 발생  절도 검거  폭력 발생  폭력 검거\n",
              "0   중부서      2      2      3      2    105     65   1395    477   1355   1170\n",
              "1   종로서      3      3      6      5    115     98   1070    413   1278   1070\n",
              "2  남대문서      1      0      6      4     65     46   1153    382    869    794\n",
              "3  서대문서      2      2      5      4    154    124   1812    738   2056   1711\n",
              "4   혜화서      3      2      5      4     96     63   1114    424   1015    861"
            ]
          },
          "metadata": {
            "tags": []
          },
          "execution_count": 5
        }
      ]
    },
    {
      "cell_type": "code",
      "metadata": {
        "colab": {
          "base_uri": "https://localhost:8080/"
        },
        "id": "yoADpXdcuQcO",
        "outputId": "c44c42d2-2b74-4002-8a9d-719c94149531"
      },
      "source": [
        "import googlemaps\n",
        "\n",
        "gmaps_key = \"YOUR KEY\"\n",
        "gmaps = googlemaps.Client(key=gmaps_key)\n",
        "gmaps.geocode('서울중부경찰서',language='ko')"
      ],
      "execution_count": 8,
      "outputs": [
        {
          "output_type": "execute_result",
          "data": {
            "text/plain": [
              "[{'address_components': [{'long_name': '２７',\n",
              "    'short_name': '２７',\n",
              "    'types': ['premise']},\n",
              "   {'long_name': '수표로',\n",
              "    'short_name': '수표로',\n",
              "    'types': ['political', 'sublocality', 'sublocality_level_4']},\n",
              "   {'long_name': '을지로동',\n",
              "    'short_name': '을지로동',\n",
              "    'types': ['political', 'sublocality', 'sublocality_level_2']},\n",
              "   {'long_name': '중구',\n",
              "    'short_name': '중구',\n",
              "    'types': ['political', 'sublocality', 'sublocality_level_1']},\n",
              "   {'long_name': '서울특별시',\n",
              "    'short_name': '서울특별시',\n",
              "    'types': ['administrative_area_level_1', 'political']},\n",
              "   {'long_name': '대한민국',\n",
              "    'short_name': 'KR',\n",
              "    'types': ['country', 'political']},\n",
              "   {'long_name': '100-032',\n",
              "    'short_name': '100-032',\n",
              "    'types': ['postal_code']}],\n",
              "  'formatted_address': '대한민국 서울특별시 중구 을지로동 수표로 27',\n",
              "  'geometry': {'location': {'lat': 37.5636465, 'lng': 126.9895796},\n",
              "   'location_type': 'ROOFTOP',\n",
              "   'viewport': {'northeast': {'lat': 37.56499548029149,\n",
              "     'lng': 126.9909285802915},\n",
              "    'southwest': {'lat': 37.56229751970849, 'lng': 126.9882306197085}}},\n",
              "  'place_id': 'ChIJc-9q5uSifDURLhQmr5wkXmc',\n",
              "  'plus_code': {'compound_code': 'HX7Q+FR 대한민국 서울특별시',\n",
              "   'global_code': '8Q98HX7Q+FR'},\n",
              "  'types': ['establishment', 'point_of_interest', 'police']}]"
            ]
          },
          "metadata": {
            "tags": []
          },
          "execution_count": 8
        }
      ]
    },
    {
      "cell_type": "code",
      "metadata": {
        "colab": {
          "base_uri": "https://localhost:8080/"
        },
        "id": "zg642clw0wU_",
        "outputId": "ae792065-d83b-4c69-a3d8-760c8721951a"
      },
      "source": [
        "station_name = []\n",
        "for name in Crime_Police[\"관서명\"]:\n",
        "  station_name.append('서울'+str(name[:-1])+'경찰서')\n",
        "station_name"
      ],
      "execution_count": 6,
      "outputs": [
        {
          "output_type": "execute_result",
          "data": {
            "text/plain": [
              "['서울중부경찰서',\n",
              " '서울종로경찰서',\n",
              " '서울남대문경찰서',\n",
              " '서울서대문경찰서',\n",
              " '서울혜화경찰서',\n",
              " '서울용산경찰서',\n",
              " '서울성북경찰서',\n",
              " '서울동대문경찰서',\n",
              " '서울마포경찰서',\n",
              " '서울영등포경찰서',\n",
              " '서울성동경찰서',\n",
              " '서울동작경찰서',\n",
              " '서울광진경찰서',\n",
              " '서울서부경찰서',\n",
              " '서울강북경찰서',\n",
              " '서울금천경찰서',\n",
              " '서울중랑경찰서',\n",
              " '서울강남경찰서',\n",
              " '서울관악경찰서',\n",
              " '서울강서경찰서',\n",
              " '서울강동경찰서',\n",
              " '서울종암경찰서',\n",
              " '서울구로경찰서',\n",
              " '서울서초경찰서',\n",
              " '서울양천경찰서',\n",
              " '서울송파경찰서',\n",
              " '서울노원경찰서',\n",
              " '서울방배경찰서',\n",
              " '서울은평경찰서',\n",
              " '서울도봉경찰서',\n",
              " '서울수서경찰서']"
            ]
          },
          "metadata": {
            "tags": []
          },
          "execution_count": 6
        }
      ]
    },
    {
      "cell_type": "code",
      "metadata": {
        "colab": {
          "base_uri": "https://localhost:8080/"
        },
        "id": "jFTH57UZ2Zt3",
        "outputId": "d33e9e80-17fe-4ab4-91d3-f2133767f035"
      },
      "source": [
        "station_address = []\n",
        "station_lat = []\n",
        "station_lng = []\n",
        "\n",
        "for name in station_name:\n",
        "  tmp = gmaps.geocode(name,language=\"ko\")\n",
        "  station_address.append(tmp[0].get('formatted_address'))\n",
        "  tmp_loc = tmp[0].get(\"geometry\")\n",
        "  station_lat.append(tmp_loc['location']['lat'])\n",
        "  station_lng.append(tmp_loc['location']['lng'])\n",
        "  print(name,' : ',tmp[0].get('formatted_address'))"
      ],
      "execution_count": 9,
      "outputs": [
        {
          "output_type": "stream",
          "text": [
            "서울중부경찰서  :  대한민국 서울특별시 중구 을지로동 수표로 27\n",
            "서울종로경찰서  :  대한민국 서울특별시 종로구 종로1.2.3.4가동 율곡로 46\n",
            "서울남대문경찰서  :  대한민국 서울특별시 중구 회현동 한강대로 410\n",
            "서울서대문경찰서  :  대한민국 서울특별시 서대문구 충현동 통일로 113\n",
            "서울혜화경찰서  :  대한민국 서울특별시 종로구 인의동 창경궁로 112-16\n",
            "서울용산경찰서  :  대한민국 서울특별시 용산구 원효로1가 백범로 329\n",
            "서울성북경찰서  :  대한민국 서울특별시 성북구 삼선동 보문로 170\n",
            "서울동대문경찰서  :  대한민국 서울특별시 동대문구 청량리동 약령시로21길 29\n",
            "서울마포경찰서  :  대한민국 서울특별시 마포구 아현동 마포대로 183\n",
            "서울영등포경찰서  :  대한민국 서울특별시 영등포구 영등포동1가 618-7\n",
            "서울성동경찰서  :  대한민국 서울특별시 성동구 행당동 왕십리광장로 9\n",
            "서울동작경찰서  :  대한민국 서울특별시 동작구 노량진1동 노량진로 148\n",
            "서울광진경찰서  :  대한민국 서울특별시 광진구 구의동 자양로 167\n",
            "서울서부경찰서  :  대한민국 서울특별시 은평구 녹번동 진흥로 58\n",
            "서울강북경찰서  :  대한민국 서울특별시 강북구 번1동 오패산로 406\n",
            "서울금천경찰서  :  대한민국 서울특별시 금천구 시흥1동 시흥대로73길 50\n",
            "서울중랑경찰서  :  대한민국 서울특별시 중랑구 신내동 신내역로3길 40-10\n",
            "서울강남경찰서  :  대한민국 서울특별시 강남구 대치동 테헤란로114길 11\n",
            "서울관악경찰서  :  대한민국 서울특별시 관악구 청룡동 관악로5길 33\n",
            "서울강서경찰서  :  대한민국 서울특별시 강서구 화곡동 화곡로 308\n",
            "서울강동경찰서  :  대한민국 서울특별시 강동구 성내1동 성내로 57\n",
            "서울종암경찰서  :  대한민국 서울특별시 성북구 종암동 종암로 135\n",
            "서울구로경찰서  :  대한민국 서울특별시 구로구 구로동 가마산로 235\n",
            "서울서초경찰서  :  대한민국 서울특별시 서초구 서초3동 반포대로 179\n",
            "서울양천경찰서  :  대한민국 서울특별시 양천구 신정6동 목동동로 99\n",
            "서울송파경찰서  :  대한민국 서울특별시 송파구 가락동 중대로 221\n",
            "서울노원경찰서  :  대한민국 서울특별시 노원구 하계동 노원로 283\n",
            "서울방배경찰서  :  대한민국 서울특별시 서초구 방배본동 동작대로 204\n",
            "서울은평경찰서  :  대한민국 서울특별시 은평구 불광동 연서로 365\n",
            "서울도봉경찰서  :  대한민국 서울특별시 도봉구 창4동 노해로 403\n",
            "서울수서경찰서  :  대한민국 서울특별시 강남구 개포동 개포로 617\n"
          ],
          "name": "stdout"
        }
      ]
    },
    {
      "cell_type": "code",
      "metadata": {
        "colab": {
          "base_uri": "https://localhost:8080/",
          "height": 204
        },
        "id": "LwkreVHT4KHO",
        "outputId": "dd0e3312-8db7-4ede-b689-8ae384720852"
      },
      "source": [
        "gu_name = []\n",
        "\n",
        "for name in station_address:\n",
        "  tmp = name.split()\n",
        "  tmp_gu = [gu for gu in tmp if gu[-1] == \"구\"][0]\n",
        "  gu_name.append(tmp_gu)\n",
        "  \n",
        "Crime_Police['구별'] = gu_name\n",
        "Crime_Police.head()"
      ],
      "execution_count": 14,
      "outputs": [
        {
          "output_type": "execute_result",
          "data": {
            "text/html": [
              "<div>\n",
              "<style scoped>\n",
              "    .dataframe tbody tr th:only-of-type {\n",
              "        vertical-align: middle;\n",
              "    }\n",
              "\n",
              "    .dataframe tbody tr th {\n",
              "        vertical-align: top;\n",
              "    }\n",
              "\n",
              "    .dataframe thead th {\n",
              "        text-align: right;\n",
              "    }\n",
              "</style>\n",
              "<table border=\"1\" class=\"dataframe\">\n",
              "  <thead>\n",
              "    <tr style=\"text-align: right;\">\n",
              "      <th></th>\n",
              "      <th>관서명</th>\n",
              "      <th>살인 발생</th>\n",
              "      <th>살인 검거</th>\n",
              "      <th>강도 발생</th>\n",
              "      <th>강도 검거</th>\n",
              "      <th>강간 발생</th>\n",
              "      <th>강간 검거</th>\n",
              "      <th>절도 발생</th>\n",
              "      <th>절도 검거</th>\n",
              "      <th>폭력 발생</th>\n",
              "      <th>폭력 검거</th>\n",
              "      <th>구별</th>\n",
              "    </tr>\n",
              "  </thead>\n",
              "  <tbody>\n",
              "    <tr>\n",
              "      <th>0</th>\n",
              "      <td>중부서</td>\n",
              "      <td>2</td>\n",
              "      <td>2</td>\n",
              "      <td>3</td>\n",
              "      <td>2</td>\n",
              "      <td>105</td>\n",
              "      <td>65</td>\n",
              "      <td>1395</td>\n",
              "      <td>477</td>\n",
              "      <td>1355</td>\n",
              "      <td>1170</td>\n",
              "      <td>중구</td>\n",
              "    </tr>\n",
              "    <tr>\n",
              "      <th>1</th>\n",
              "      <td>종로서</td>\n",
              "      <td>3</td>\n",
              "      <td>3</td>\n",
              "      <td>6</td>\n",
              "      <td>5</td>\n",
              "      <td>115</td>\n",
              "      <td>98</td>\n",
              "      <td>1070</td>\n",
              "      <td>413</td>\n",
              "      <td>1278</td>\n",
              "      <td>1070</td>\n",
              "      <td>종로구</td>\n",
              "    </tr>\n",
              "    <tr>\n",
              "      <th>2</th>\n",
              "      <td>남대문서</td>\n",
              "      <td>1</td>\n",
              "      <td>0</td>\n",
              "      <td>6</td>\n",
              "      <td>4</td>\n",
              "      <td>65</td>\n",
              "      <td>46</td>\n",
              "      <td>1153</td>\n",
              "      <td>382</td>\n",
              "      <td>869</td>\n",
              "      <td>794</td>\n",
              "      <td>중구</td>\n",
              "    </tr>\n",
              "    <tr>\n",
              "      <th>3</th>\n",
              "      <td>서대문서</td>\n",
              "      <td>2</td>\n",
              "      <td>2</td>\n",
              "      <td>5</td>\n",
              "      <td>4</td>\n",
              "      <td>154</td>\n",
              "      <td>124</td>\n",
              "      <td>1812</td>\n",
              "      <td>738</td>\n",
              "      <td>2056</td>\n",
              "      <td>1711</td>\n",
              "      <td>서대문구</td>\n",
              "    </tr>\n",
              "    <tr>\n",
              "      <th>4</th>\n",
              "      <td>혜화서</td>\n",
              "      <td>3</td>\n",
              "      <td>2</td>\n",
              "      <td>5</td>\n",
              "      <td>4</td>\n",
              "      <td>96</td>\n",
              "      <td>63</td>\n",
              "      <td>1114</td>\n",
              "      <td>424</td>\n",
              "      <td>1015</td>\n",
              "      <td>861</td>\n",
              "      <td>종로구</td>\n",
              "    </tr>\n",
              "  </tbody>\n",
              "</table>\n",
              "</div>"
            ],
            "text/plain": [
              "    관서명  살인 발생  살인 검거  강도 발생  강도 검거  ...  절도 발생  절도 검거  폭력 발생  폭력 검거    구별\n",
              "0   중부서      2      2      3      2  ...   1395    477   1355   1170    중구\n",
              "1   종로서      3      3      6      5  ...   1070    413   1278   1070   종로구\n",
              "2  남대문서      1      0      6      4  ...   1153    382    869    794    중구\n",
              "3  서대문서      2      2      5      4  ...   1812    738   2056   1711  서대문구\n",
              "4   혜화서      3      2      5      4  ...   1114    424   1015    861   종로구\n",
              "\n",
              "[5 rows x 12 columns]"
            ]
          },
          "metadata": {
            "tags": []
          },
          "execution_count": 14
        }
      ]
    },
    {
      "cell_type": "code",
      "metadata": {
        "colab": {
          "base_uri": "https://localhost:8080/",
          "height": 80
        },
        "id": "Mjau4Wbt4-Hb",
        "outputId": "15521de4-428d-470d-fb5e-5f2c287814e3"
      },
      "source": [
        "Crime_Police.loc[Crime_Police['관서명']==\"금천서\",[\"구별\"]] = \"금천구\"\n",
        "Crime_Police[Crime_Police['관서명']==\"금천서\"]"
      ],
      "execution_count": 16,
      "outputs": [
        {
          "output_type": "execute_result",
          "data": {
            "text/html": [
              "<div>\n",
              "<style scoped>\n",
              "    .dataframe tbody tr th:only-of-type {\n",
              "        vertical-align: middle;\n",
              "    }\n",
              "\n",
              "    .dataframe tbody tr th {\n",
              "        vertical-align: top;\n",
              "    }\n",
              "\n",
              "    .dataframe thead th {\n",
              "        text-align: right;\n",
              "    }\n",
              "</style>\n",
              "<table border=\"1\" class=\"dataframe\">\n",
              "  <thead>\n",
              "    <tr style=\"text-align: right;\">\n",
              "      <th></th>\n",
              "      <th>관서명</th>\n",
              "      <th>살인 발생</th>\n",
              "      <th>살인 검거</th>\n",
              "      <th>강도 발생</th>\n",
              "      <th>강도 검거</th>\n",
              "      <th>강간 발생</th>\n",
              "      <th>강간 검거</th>\n",
              "      <th>절도 발생</th>\n",
              "      <th>절도 검거</th>\n",
              "      <th>폭력 발생</th>\n",
              "      <th>폭력 검거</th>\n",
              "      <th>구별</th>\n",
              "    </tr>\n",
              "  </thead>\n",
              "  <tbody>\n",
              "    <tr>\n",
              "      <th>15</th>\n",
              "      <td>금천서</td>\n",
              "      <td>3</td>\n",
              "      <td>4</td>\n",
              "      <td>6</td>\n",
              "      <td>6</td>\n",
              "      <td>151</td>\n",
              "      <td>122</td>\n",
              "      <td>1567</td>\n",
              "      <td>888</td>\n",
              "      <td>2054</td>\n",
              "      <td>1776</td>\n",
              "      <td>금천구</td>\n",
              "    </tr>\n",
              "  </tbody>\n",
              "</table>\n",
              "</div>"
            ],
            "text/plain": [
              "    관서명  살인 발생  살인 검거  강도 발생  강도 검거  ...  절도 발생  절도 검거  폭력 발생  폭력 검거   구별\n",
              "15  금천서      3      4      6      6  ...   1567    888   2054   1776  금천구\n",
              "\n",
              "[1 rows x 12 columns]"
            ]
          },
          "metadata": {
            "tags": []
          },
          "execution_count": 16
        }
      ]
    },
    {
      "cell_type": "code",
      "metadata": {
        "id": "LrG66aEj6Mas"
      },
      "source": [
        "Crime_Police.to_csv(\"/content/drive/MyDrive/data/DataScience-master/DataScience-master/data/02. Edited_crime_in_Seoul.csv\")"
      ],
      "execution_count": 17,
      "outputs": []
    }
  ]
}