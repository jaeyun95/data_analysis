{
  "nbformat": 4,
  "nbformat_minor": 0,
  "metadata": {
    "colab": {
      "name": "ChicagoSandwich01.ipynb",
      "provenance": []
    },
    "kernelspec": {
      "name": "python3",
      "display_name": "Python 3"
    },
    "language_info": {
      "name": "python"
    }
  },
  "cells": [
    {
      "cell_type": "code",
      "metadata": {
        "colab": {
          "base_uri": "https://localhost:8080/"
        },
        "id": "rYdp-WopNvHS",
        "outputId": "e48ca2a6-90d7-4272-e990-b332bd3b8143"
      },
      "source": [
        "page = open(\"/content/drive/MyDrive/data/DataScience-master/DataScience-master/data/03. test_first.html\").read()\n",
        "print(page)\n"
      ],
      "execution_count": 3,
      "outputs": [
        {
          "output_type": "stream",
          "text": [
            "<!DOCTYPE html>\n",
            "<html>\n",
            "    <head>\n",
            "        <title>Very Simple HTML Code by PinkWink</title>\n",
            "    </head>\n",
            "    <body>\n",
            "        <div>\n",
            "            <p class=\"inner-text first-item\" id=\"first\">\n",
            "                Happy PinkWink.\n",
            "                <a href=\"http://www.pinkwink.kr\" id=\"pw-link\">PinkWink</a>\n",
            "            </p>\n",
            "            <p class=\"inner-text second-item\">\n",
            "                Happy Data Science.\n",
            "                <a href=\"https://www.python.org\" id=\"py-link\">Python</a>\n",
            "            </p>\n",
            "        </div>\n",
            "        <p class=\"outer-text first-item\" id=\"second\">\n",
            "            <b>\n",
            "                Data Science is funny.\n",
            "            </b>\n",
            "        </p>\n",
            "        <p class=\"outer-text\">\n",
            "            <b>\n",
            "                All I need is Love.\n",
            "            </b>\n",
            "        </p>\n",
            "    </body>\n",
            "</html>\n"
          ],
          "name": "stdout"
        }
      ]
    },
    {
      "cell_type": "code",
      "metadata": {
        "colab": {
          "base_uri": "https://localhost:8080/"
        },
        "id": "9hp5QrlXPbPV",
        "outputId": "6aa27667-c50c-43bf-b1ba-21f58116d2e5"
      },
      "source": [
        "from bs4 import BeautifulSoup\n",
        "\n",
        "page = open(\"/content/drive/MyDrive/data/DataScience-master/DataScience-master/data/03. test_first.html\").read()\n",
        "soup = BeautifulSoup(page,'html.parser')\n",
        "print(soup.prettify())"
      ],
      "execution_count": 6,
      "outputs": [
        {
          "output_type": "stream",
          "text": [
            "<!DOCTYPE html>\n",
            "<html>\n",
            " <head>\n",
            "  <title>\n",
            "   Very Simple HTML Code by PinkWink\n",
            "  </title>\n",
            " </head>\n",
            " <body>\n",
            "  <div>\n",
            "   <p class=\"inner-text first-item\" id=\"first\">\n",
            "    Happy PinkWink.\n",
            "    <a href=\"http://www.pinkwink.kr\" id=\"pw-link\">\n",
            "     PinkWink\n",
            "    </a>\n",
            "   </p>\n",
            "   <p class=\"inner-text second-item\">\n",
            "    Happy Data Science.\n",
            "    <a href=\"https://www.python.org\" id=\"py-link\">\n",
            "     Python\n",
            "    </a>\n",
            "   </p>\n",
            "  </div>\n",
            "  <p class=\"outer-text first-item\" id=\"second\">\n",
            "   <b>\n",
            "    Data Science is funny.\n",
            "   </b>\n",
            "  </p>\n",
            "  <p class=\"outer-text\">\n",
            "   <b>\n",
            "    All I need is Love.\n",
            "   </b>\n",
            "  </p>\n",
            " </body>\n",
            "</html>\n"
          ],
          "name": "stdout"
        }
      ]
    },
    {
      "cell_type": "code",
      "metadata": {
        "colab": {
          "base_uri": "https://localhost:8080/"
        },
        "id": "J2BuT5z8Rwk8",
        "outputId": "d15cc6e2-701e-451c-d68c-f64e540b9a63"
      },
      "source": [
        "list(soup.children)"
      ],
      "execution_count": 8,
      "outputs": [
        {
          "output_type": "execute_result",
          "data": {
            "text/plain": [
              "['html', '\\n', <html>\n",
              " <head>\n",
              " <title>Very Simple HTML Code by PinkWink</title>\n",
              " </head>\n",
              " <body>\n",
              " <div>\n",
              " <p class=\"inner-text first-item\" id=\"first\">\n",
              "                 Happy PinkWink.\n",
              "                 <a href=\"http://www.pinkwink.kr\" id=\"pw-link\">PinkWink</a>\n",
              " </p>\n",
              " <p class=\"inner-text second-item\">\n",
              "                 Happy Data Science.\n",
              "                 <a href=\"https://www.python.org\" id=\"py-link\">Python</a>\n",
              " </p>\n",
              " </div>\n",
              " <p class=\"outer-text first-item\" id=\"second\">\n",
              " <b>\n",
              "                 Data Science is funny.\n",
              "             </b>\n",
              " </p>\n",
              " <p class=\"outer-text\">\n",
              " <b>\n",
              "                 All I need is Love.\n",
              "             </b>\n",
              " </p>\n",
              " </body>\n",
              " </html>]"
            ]
          },
          "metadata": {
            "tags": []
          },
          "execution_count": 8
        }
      ]
    },
    {
      "cell_type": "code",
      "metadata": {
        "colab": {
          "base_uri": "https://localhost:8080/"
        },
        "id": "rvZ14OXUSMCd",
        "outputId": "a75ff3bb-1a74-402a-ffe4-b4b087fd838b"
      },
      "source": [
        "## html 태그 가져오기\n",
        "html = list(soup.children)[2]\n",
        "## body 부분 가져오기\n",
        "body = list(html.children)[3]\n",
        "print(body)"
      ],
      "execution_count": 13,
      "outputs": [
        {
          "output_type": "stream",
          "text": [
            "<body>\n",
            "<div>\n",
            "<p class=\"inner-text first-item\" id=\"first\">\n",
            "                Happy PinkWink.\n",
            "                <a href=\"http://www.pinkwink.kr\" id=\"pw-link\">PinkWink</a>\n",
            "</p>\n",
            "<p class=\"inner-text second-item\">\n",
            "                Happy Data Science.\n",
            "                <a href=\"https://www.python.org\" id=\"py-link\">Python</a>\n",
            "</p>\n",
            "</div>\n",
            "<p class=\"outer-text first-item\" id=\"second\">\n",
            "<b>\n",
            "                Data Science is funny.\n",
            "            </b>\n",
            "</p>\n",
            "<p class=\"outer-text\">\n",
            "<b>\n",
            "                All I need is Love.\n",
            "            </b>\n",
            "</p>\n",
            "</body>\n"
          ],
          "name": "stdout"
        }
      ]
    },
    {
      "cell_type": "code",
      "metadata": {
        "colab": {
          "base_uri": "https://localhost:8080/"
        },
        "id": "ndGBPMfBTJu0",
        "outputId": "33e40642-19bc-43e2-ded9-00a5c63ae0d8"
      },
      "source": [
        "soup.body"
      ],
      "execution_count": 14,
      "outputs": [
        {
          "output_type": "execute_result",
          "data": {
            "text/plain": [
              "<body>\n",
              "<div>\n",
              "<p class=\"inner-text first-item\" id=\"first\">\n",
              "                Happy PinkWink.\n",
              "                <a href=\"http://www.pinkwink.kr\" id=\"pw-link\">PinkWink</a>\n",
              "</p>\n",
              "<p class=\"inner-text second-item\">\n",
              "                Happy Data Science.\n",
              "                <a href=\"https://www.python.org\" id=\"py-link\">Python</a>\n",
              "</p>\n",
              "</div>\n",
              "<p class=\"outer-text first-item\" id=\"second\">\n",
              "<b>\n",
              "                Data Science is funny.\n",
              "            </b>\n",
              "</p>\n",
              "<p class=\"outer-text\">\n",
              "<b>\n",
              "                All I need is Love.\n",
              "            </b>\n",
              "</p>\n",
              "</body>"
            ]
          },
          "metadata": {
            "tags": []
          },
          "execution_count": 14
        }
      ]
    },
    {
      "cell_type": "code",
      "metadata": {
        "colab": {
          "base_uri": "https://localhost:8080/"
        },
        "id": "O3OE-xP9Tcp4",
        "outputId": "ee7af3a2-8f19-4f28-f2a0-d8ee3ce3fd85"
      },
      "source": [
        "soup.find_all('p')"
      ],
      "execution_count": 15,
      "outputs": [
        {
          "output_type": "execute_result",
          "data": {
            "text/plain": [
              "[<p class=\"inner-text first-item\" id=\"first\">\n",
              "                 Happy PinkWink.\n",
              "                 <a href=\"http://www.pinkwink.kr\" id=\"pw-link\">PinkWink</a>\n",
              " </p>, <p class=\"inner-text second-item\">\n",
              "                 Happy Data Science.\n",
              "                 <a href=\"https://www.python.org\" id=\"py-link\">Python</a>\n",
              " </p>, <p class=\"outer-text first-item\" id=\"second\">\n",
              " <b>\n",
              "                 Data Science is funny.\n",
              "             </b>\n",
              " </p>, <p class=\"outer-text\">\n",
              " <b>\n",
              "                 All I need is Love.\n",
              "             </b>\n",
              " </p>]"
            ]
          },
          "metadata": {
            "tags": []
          },
          "execution_count": 15
        }
      ]
    },
    {
      "cell_type": "code",
      "metadata": {
        "colab": {
          "base_uri": "https://localhost:8080/"
        },
        "id": "2sIxV0GUTmXv",
        "outputId": "5f267f30-aa0e-4b93-b4d9-cc1c4fac66b5"
      },
      "source": [
        "soup.find('p')"
      ],
      "execution_count": 16,
      "outputs": [
        {
          "output_type": "execute_result",
          "data": {
            "text/plain": [
              "<p class=\"inner-text first-item\" id=\"first\">\n",
              "                Happy PinkWink.\n",
              "                <a href=\"http://www.pinkwink.kr\" id=\"pw-link\">PinkWink</a>\n",
              "</p>"
            ]
          },
          "metadata": {
            "tags": []
          },
          "execution_count": 16
        }
      ]
    },
    {
      "cell_type": "code",
      "metadata": {
        "colab": {
          "base_uri": "https://localhost:8080/",
          "height": 35
        },
        "id": "lAdOSVo9VbXk",
        "outputId": "26d79c36-92b9-47ee-d1a3-4f45349f9ad5"
      },
      "source": [
        "soup.head.next_sibling"
      ],
      "execution_count": 21,
      "outputs": [
        {
          "output_type": "execute_result",
          "data": {
            "application/vnd.google.colaboratory.intrinsic+json": {
              "type": "string"
            },
            "text/plain": [
              "'\\n'"
            ]
          },
          "metadata": {
            "tags": []
          },
          "execution_count": 21
        }
      ]
    },
    {
      "cell_type": "code",
      "metadata": {
        "colab": {
          "base_uri": "https://localhost:8080/"
        },
        "id": "9cNACYqqVvV7",
        "outputId": "94424361-2a7d-4383-b830-4687ac5e7e44"
      },
      "source": [
        "soup.head.next_sibling.next_sibling"
      ],
      "execution_count": 22,
      "outputs": [
        {
          "output_type": "execute_result",
          "data": {
            "text/plain": [
              "<body>\n",
              "<div>\n",
              "<p class=\"inner-text first-item\" id=\"first\">\n",
              "                Happy PinkWink.\n",
              "                <a href=\"http://www.pinkwink.kr\" id=\"pw-link\">PinkWink</a>\n",
              "</p>\n",
              "<p class=\"inner-text second-item\">\n",
              "                Happy Data Science.\n",
              "                <a href=\"https://www.python.org\" id=\"py-link\">Python</a>\n",
              "</p>\n",
              "</div>\n",
              "<p class=\"outer-text first-item\" id=\"second\">\n",
              "<b>\n",
              "                Data Science is funny.\n",
              "            </b>\n",
              "</p>\n",
              "<p class=\"outer-text\">\n",
              "<b>\n",
              "                All I need is Love.\n",
              "            </b>\n",
              "</p>\n",
              "</body>"
            ]
          },
          "metadata": {
            "tags": []
          },
          "execution_count": 22
        }
      ]
    },
    {
      "cell_type": "code",
      "metadata": {
        "colab": {
          "base_uri": "https://localhost:8080/"
        },
        "id": "eXd8RSJKT7LE",
        "outputId": "7ea4bb05-e628-4224-b577-25a1b3dba793"
      },
      "source": [
        "soup.find_all('p',class_=\"outer-text\")"
      ],
      "execution_count": 18,
      "outputs": [
        {
          "output_type": "execute_result",
          "data": {
            "text/plain": [
              "[<p class=\"outer-text first-item\" id=\"second\">\n",
              " <b>\n",
              "                 Data Science is funny.\n",
              "             </b>\n",
              " </p>, <p class=\"outer-text\">\n",
              " <b>\n",
              "                 All I need is Love.\n",
              "             </b>\n",
              " </p>]"
            ]
          },
          "metadata": {
            "tags": []
          },
          "execution_count": 18
        }
      ]
    },
    {
      "cell_type": "code",
      "metadata": {
        "colab": {
          "base_uri": "https://localhost:8080/"
        },
        "id": "giLJc92eUl1b",
        "outputId": "eb86b218-7be7-413b-cd3b-4b4f31b365d9"
      },
      "source": [
        "soup.find_all(class_=\"outer-text\")"
      ],
      "execution_count": 19,
      "outputs": [
        {
          "output_type": "execute_result",
          "data": {
            "text/plain": [
              "[<p class=\"outer-text first-item\" id=\"second\">\n",
              " <b>\n",
              "                 Data Science is funny.\n",
              "             </b>\n",
              " </p>, <p class=\"outer-text\">\n",
              " <b>\n",
              "                 All I need is Love.\n",
              "             </b>\n",
              " </p>]"
            ]
          },
          "metadata": {
            "tags": []
          },
          "execution_count": 19
        }
      ]
    },
    {
      "cell_type": "code",
      "metadata": {
        "colab": {
          "base_uri": "https://localhost:8080/"
        },
        "id": "-Ku935ktUu61",
        "outputId": "2b457cc3-13f1-4f5e-885a-dd14a63c9b4d"
      },
      "source": [
        "soup.find_all(id='first')"
      ],
      "execution_count": 20,
      "outputs": [
        {
          "output_type": "execute_result",
          "data": {
            "text/plain": [
              "[<p class=\"inner-text first-item\" id=\"first\">\n",
              "                 Happy PinkWink.\n",
              "                 <a href=\"http://www.pinkwink.kr\" id=\"pw-link\">PinkWink</a>\n",
              " </p>]"
            ]
          },
          "metadata": {
            "tags": []
          },
          "execution_count": 20
        }
      ]
    },
    {
      "cell_type": "code",
      "metadata": {
        "colab": {
          "base_uri": "https://localhost:8080/"
        },
        "id": "SvwgnDo5V6Uw",
        "outputId": "a5c26bb1-1613-4a4d-b387-e3fcff50500f"
      },
      "source": [
        "soup.p"
      ],
      "execution_count": 23,
      "outputs": [
        {
          "output_type": "execute_result",
          "data": {
            "text/plain": [
              "<p class=\"inner-text first-item\" id=\"first\">\n",
              "                Happy PinkWink.\n",
              "                <a href=\"http://www.pinkwink.kr\" id=\"pw-link\">PinkWink</a>\n",
              "</p>"
            ]
          },
          "metadata": {
            "tags": []
          },
          "execution_count": 23
        }
      ]
    },
    {
      "cell_type": "code",
      "metadata": {
        "colab": {
          "base_uri": "https://localhost:8080/"
        },
        "id": "p-g8H-LXWO1Y",
        "outputId": "2688daeb-852a-4600-e7e7-6c32c36971b0"
      },
      "source": [
        "for each_tag in soup.find_all(\"p\"):\n",
        "  print(each_tag.get_text())"
      ],
      "execution_count": 24,
      "outputs": [
        {
          "output_type": "stream",
          "text": [
            "\n",
            "                Happy PinkWink.\n",
            "                PinkWink\n",
            "\n",
            "\n",
            "                Happy Data Science.\n",
            "                Python\n",
            "\n",
            "\n",
            "\n",
            "                Data Science is funny.\n",
            "            \n",
            "\n",
            "\n",
            "\n",
            "                All I need is Love.\n",
            "            \n",
            "\n"
          ],
          "name": "stdout"
        }
      ]
    },
    {
      "cell_type": "code",
      "metadata": {
        "colab": {
          "base_uri": "https://localhost:8080/"
        },
        "id": "ADN8sxL6Wnn-",
        "outputId": "8a6a08c2-6922-4015-9dc8-0d07a70ae8d1"
      },
      "source": [
        "links = soup.find_all('a')\n",
        "links"
      ],
      "execution_count": 26,
      "outputs": [
        {
          "output_type": "execute_result",
          "data": {
            "text/plain": [
              "[<a href=\"http://www.pinkwink.kr\" id=\"pw-link\">PinkWink</a>,\n",
              " <a href=\"https://www.python.org\" id=\"py-link\">Python</a>]"
            ]
          },
          "metadata": {
            "tags": []
          },
          "execution_count": 26
        }
      ]
    },
    {
      "cell_type": "code",
      "metadata": {
        "colab": {
          "base_uri": "https://localhost:8080/"
        },
        "id": "7hKXpZUgXjeZ",
        "outputId": "8a390981-9274-458b-84fa-fb92035fca31"
      },
      "source": [
        "import requests\n",
        "\n",
        "url = \"https://search.naver.com/search.naver?where=nexearch&sm=top_hty&fbm=1&ie=utf8&query=jaeyoon_95\"\n",
        "\n",
        "response = requests.get(url)\n",
        "\n",
        "if response.status_code == 200:\n",
        "  html = response.text\n",
        "  soup = BeautifulSoup(html,'html.parser')\n",
        "  title = soup.select_one(\"#web_2 > div > div.total_tit_group > div.total_tit > a\").get_text()\n",
        "  print(title)\n",
        "else:\n",
        "  print(response.status_code)"
      ],
      "execution_count": 29,
      "outputs": [
        {
          "output_type": "stream",
          "text": [
            " Jaeyun's AI LAB^~^ \n"
          ],
          "name": "stdout"
        }
      ]
    }
  ]
}